{
  "nbformat": 4,
  "nbformat_minor": 0,
  "metadata": {
    "colab": {
      "provenance": [],
      "gpuType": "T4",
      "authorship_tag": "ABX9TyP0fnpGnmWW9PS2JPKg0CEP",
      "include_colab_link": true
    },
    "kernelspec": {
      "name": "python3",
      "display_name": "Python 3"
    },
    "language_info": {
      "name": "python"
    },
    "accelerator": "GPU"
  },
  "cells": [
    {
      "cell_type": "markdown",
      "metadata": {
        "id": "view-in-github",
        "colab_type": "text"
      },
      "source": [
        "<a href=\"https://colab.research.google.com/github/nya-a-cat/install_gh_in.ipynb/blob/main/install_gh_in.ipynb\" target=\"_parent\"><img src=\"https://colab.research.google.com/assets/colab-badge.svg\" alt=\"Open In Colab\"/></a>"
      ]
    },
    {
      "cell_type": "markdown",
      "source": [
        "# installGh"
      ],
      "metadata": {
        "id": "CoBDMbb4fiHb"
      }
    },
    {
      "cell_type": "code",
      "source": [
        "# 检查 wget 是否已安装，如果没有则安装它\n",
        "# Check if wget is installed, if not, install it\n",
        "!type -p wget >/dev/null || (sudo apt update && sudo apt-get install wget -y)\n",
        "\n",
        "# 下载 GitHub CLI 的密钥并将其添加到系统的受信任密钥列表\n",
        "# Download GitHub CLI key and add it to the system's trusted key list\n",
        "!wget -qO- https://cli.github.com/packages/githubcli-archive-keyring.gpg | sudo tee /etc/apt/trusted.gpg.d/githubcli.asc\n",
        "\n",
        "# 添加 GitHub CLI 的软件源到 apt 源列表\n",
        "# Add GitHub CLI's repository to the apt sources list\n",
        "!sudo sh -c 'echo \"deb [arch=amd64] https://cli.github.com/packages stable main\" > /etc/apt/sources.list.d/github-cli.list'\n",
        "\n",
        "# 更新 apt 包列表\n",
        "# Update apt package list\n",
        "!sudo apt update\n",
        "\n",
        "# 安装 GitHub CLI\n",
        "# Install GitHub CLI\n",
        "!sudo apt install gh -y"
      ],
      "metadata": {
        "colab": {
          "base_uri": "https://localhost:8080/"
        },
        "id": "egImRSUFfVTX",
        "outputId": "4730df85-584f-497e-b15e-6b87066eb5b1"
      },
      "execution_count": 1,
      "outputs": [
        {
          "output_type": "stream",
          "name": "stdout",
          "text": [
            "�\u0002\r\u0004c\u0017.�\u0001\u0010\u0000Ϙ\u001f\u0006}�d.�\b*p':KP�\u001c#��M\u0015}~\u0011��K�@'߆�[�\u001e�,|\u0002��YD\u001d�� �Ŷ\u0000({�\u0003P/�y\\��\\�@\f�M2�\u0001��ɂ�,2\u0018M��(�9�|�jc�Bv\u0015:F�\r��+\u0002�GİTw����,�\u0005��a\u00019N��\u0001�t�1!�fP��{F\u001ezXJ��\u00063s��-G]A;�q\u001fm\u001e�F\u001f>\t�\u0015\u0015���\u0002���k��o(cQ+ܷ�Q�\u0012�\u0018$�f�7�S\u001b�\u0014J_�D����5�5^\u000e:�Gf1��%K�*��h\u001b�U$��B<�8{���m�\u0006����=�\u0016�\u001b����*\"\u0006~@\u001b����M����\u001en��t�+ߪ��^����E\n",
            "\u001e\u0018C$���\u0011�[T��:�{A�0\n",
            "�=\u0018�\u0018�\u001e��w\u0014٠n�:7ᑞ2]A�zi���\u0000��؞�C�1\u0019=g\u000e���\u0018�����\u001a���E\u0010�١.�ϳ5�73\u0003��u���L\u0002Ca\u0004����`\b3�6W���\u00064J��z6m��\u0018\u0019���thUP�2�T�����JI��,�����\u001b(O���T4`��1��'���T�=\u0005�C��H\"+�Q�\u0004,\u001f�oKR\u001e����L�D/!�[ꩡ�q8\\Z�\u000b�A\u0000\u0011\u0001\u0000\u0001�&GitHub CLI <opensource+cli@github.com>�\u0002T\u0004\u0013\u0001\b\u0000>\u0002\u001b\u0003\u0005\u000b\t\b\u0007\u0002\u0006\u0015\n",
            "\t\b\u000b\u0002\u0004\u0016\u0002\u0003\u0001\u0002\u001e\u0001\u0002\u0017�\u0016!\u0004,a\u0006 \u0019��\u000elz�s#���uq`Y\u0005\u0002f٧�\u0005\t\u0007���\u0000\n",
            "\t\u0010#���uq`Y \u000b\u000f�}D�Q��\"2]�[BDF�}\u0005\u001bAyh�(�pie�{�_�n�ި!�%�������y���\u0012\u0010�R ������X\u001e���y[��T<)�\\�\t��}�x�*,hð���q0M\u000f�8���\u0000�`9\tK���\u0010d���!�\u0000\u0006p\u0019\u000bd�x��\u001a�)�E$alhy\u00134����\u0018�;t�\"\u0019�=���x\u0002���\u000fGe�2�\u0017dS�@ܒ���b_$R\u001e�Y��\u000e\u0019��k�J.�����M�\u0016�aZ��\u0000004\u001d\b�䢜P �s5�\u0013�\u000e�(�$�=g��=\u0004S����\u000e�$�������\u0017����\u0016e��B�tCb�\u0012�G,�\u0002\u0011\u001aG\u001eG\u0019�ՄW�\u0012����\u0000�d����Hd�f��c�\\��f��\n",
            "�d؂҅����_�$^�7h��\\x�%�j��+����\u0012L�_\u0001ׄp$J)��?�C��?�?�an]\u0013\u0011��\"kl_�x.��4Ѻ\u0016�/�>�V\u0003��cل�\u0011��O�A���\u0018���\u0006��\u0011D��\u0011����\fA����\u001f���nK�qo�)�\tl�~u96w��p�P�\\~ai�\u0012�@�L#.bY\u001c��W��Jc�x@@�T�Z�O�^\u0015�.6��u*\u0007z#\u001d|�J\u0000F^�\u0002\r\u0004c\u0017.�\u0001\u0010\u0000��VF.���\u001d\u000e��\u0004��v�:aL7��\n",
            "ԧ����\u00158���W%C!\u0016�9ix��ۆ���-{\u001c�M��-\fi�\u0000\u001b��E\u001a�ؘ����_\u0005�׆Icj}��<\u001an��g��q�L\u0003�n��]᠄<�\u001d$1�d�����\u001cP��~]<h��(��\u0019唰Fc\u0010$�\u0018�n92\u0013�T�\u0012\b��ݹ/��\u0012D<�\u0019e��^��� Z(h�P�\u001d\u001c�����y�\u0012O�F\u000e�a\f�~�d\u0007R[�v&�\u0010\u0001C3˽�`��\u0018\u001a�8\u000f�w�+���¦f\u001d4���\u000b��\u0014z��\bn�@\u0005�Z�Y��Ճ�k�\u0015���M��\u001c�\u001d�Wj��\u000eB\u0004#��/��6 e��\tȋ��_o=S�J�goL�X�{�B�A�����\u0006D��\u0016��X~�o���A�~���*\u000fKr��`���k!�4�\u000b���\u0000�\\����I=��\u0005��mk)qhcQ�Um[�99͢��� �8��\u0006�Q�aY\u0018 �9�ג���#��\u0004�O�䨣M�w\u000fSFR3���ih�\u001d�HW��*9����l;f?jF!C�\b\u001ag:��(�Y�\u0006l;��|VG\u0016C�\u0003�V�F+�\"(�)��QM�0\u0012_\u0000\u0011\u0001\u0000\u0001�\u0002<\u0004\u0018\u0001\b\u0000&\u0002\u001b\f\u0016!\u0004,a\u0006 \u0019��\u000elz�s#���uq`Y\u0005\u0002f٧�\u0005\t\u0007��\u0010\u0000\n",
            "\t\u0010#���uq`Y\n",
            "��\u0001���->t�(\u001a�����D��\"\u0011?�p�g֥����@]�;5�\u0013v�>�G�ivWm��\"~#�\u000b4.u\u0012xi�j�r��9�_�7[{.z�z��Ε��r>=��AI\f�\u000bjFi���F��׭�\n",
            "Hit:1 https://cloud.r-project.org/bin/linux/ubuntu jammy-cran40/ InRelease\n",
            "Get:2 https://cli.github.com/packages stable InRelease [3,917 B]\n",
            "Hit:3 http://security.ubuntu.com/ubuntu jammy-security InRelease\n",
            "Hit:4 https://developer.download.nvidia.com/compute/cuda/repos/ubuntu2204/x86_64  InRelease\n",
            "Hit:5 http://archive.ubuntu.com/ubuntu jammy InRelease\n",
            "Hit:6 https://r2u.stat.illinois.edu/ubuntu jammy InRelease\n",
            "Err:2 https://cli.github.com/packages stable InRelease\n",
            "  The following signatures couldn't be verified because the public key is not available: NO_PUBKEY 23F3D4EA75716059\n",
            "Hit:7 http://archive.ubuntu.com/ubuntu jammy-updates InRelease\n",
            "Hit:8 http://archive.ubuntu.com/ubuntu jammy-backports InRelease\n",
            "Hit:9 https://ppa.launchpadcontent.net/deadsnakes/ppa/ubuntu jammy InRelease\n",
            "Hit:10 https://ppa.launchpadcontent.net/graphics-drivers/ppa/ubuntu jammy InRelease\n",
            "Hit:11 https://ppa.launchpadcontent.net/ubuntugis/ppa/ubuntu jammy InRelease\n",
            "Reading package lists... Done\n",
            "\u001b[1;33mW: \u001b[0mGPG error: https://cli.github.com/packages stable InRelease: The following signatures couldn't be verified because the public key is not available: NO_PUBKEY 23F3D4EA75716059\u001b[0m\n",
            "\u001b[1;31mE: \u001b[0mThe repository 'https://cli.github.com/packages stable InRelease' is not signed.\u001b[0m\n",
            "\u001b[33mN: \u001b[0mUpdating from such a repository can't be done securely, and is therefore disabled by default.\u001b[0m\n",
            "\u001b[33mN: \u001b[0mSee apt-secure(8) manpage for repository creation and user configuration details.\u001b[0m\n",
            "\u001b[1;33mW: \u001b[0mSkipping acquire of configured file 'main/source/Sources' as repository 'https://r2u.stat.illinois.edu/ubuntu jammy InRelease' does not seem to provide it (sources.list entry misspelt?)\u001b[0m\n",
            "Reading package lists... Done\n",
            "Building dependency tree... Done\n",
            "Reading state information... Done\n",
            "The following NEW packages will be installed:\n",
            "  gh\n",
            "0 upgraded, 1 newly installed, 0 to remove and 41 not upgraded.\n",
            "Need to get 6,242 kB of archives.\n",
            "After this operation, 33.7 MB of additional disk space will be used.\n",
            "Get:1 http://archive.ubuntu.com/ubuntu jammy/universe amd64 gh amd64 2.4.0+dfsg1-2 [6,242 kB]\n",
            "Fetched 6,242 kB in 2s (3,882 kB/s)\n",
            "debconf: unable to initialize frontend: Dialog\n",
            "debconf: (No usable dialog-like program is installed, so the dialog based frontend cannot be used. at /usr/share/perl5/Debconf/FrontEnd/Dialog.pm line 78, <> line 1.)\n",
            "debconf: falling back to frontend: Readline\n",
            "debconf: unable to initialize frontend: Readline\n",
            "debconf: (This frontend requires a controlling tty.)\n",
            "debconf: falling back to frontend: Teletype\n",
            "dpkg-preconfigure: unable to re-open stdin: \n",
            "Selecting previously unselected package gh.\n",
            "(Reading database ... 126209 files and directories currently installed.)\n",
            "Preparing to unpack .../gh_2.4.0+dfsg1-2_amd64.deb ...\n",
            "Unpacking gh (2.4.0+dfsg1-2) ...\n",
            "Setting up gh (2.4.0+dfsg1-2) ...\n",
            "Processing triggers for man-db (2.10.2-1) ...\n"
          ]
        }
      ]
    },
    {
      "cell_type": "code",
      "source": [
        "!gh --version\n"
      ],
      "metadata": {
        "colab": {
          "base_uri": "https://localhost:8080/"
        },
        "id": "dhq1StzNfnTr",
        "outputId": "f7fed136-8e70-4931-b8cd-f324d0be5e46"
      },
      "execution_count": 2,
      "outputs": [
        {
          "output_type": "stream",
          "name": "stdout",
          "text": [
            "gh version 2.4.0+dfsg1 (2022-03-23 Ubuntu 2.4.0+dfsg1-2)\n",
            "https://github.com/cli/cli/releases/latest\n"
          ]
        }
      ]
    }
  ]
}